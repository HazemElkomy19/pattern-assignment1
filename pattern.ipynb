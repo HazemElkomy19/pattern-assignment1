{
 "cells": [
  {
   "cell_type": "markdown",
   "metadata": {},
   "source": [
    "# Importing the libraries"
   ]
  },
  {
   "cell_type": "code",
   "execution_count": 648,
   "metadata": {},
   "outputs": [],
   "source": [
    "import pandas as pd\n",
    "from sklearn.model_selection import train_test_split\n",
    "from sklearn.metrics import accuracy_score,confusion_matrix\n",
    "from sklearn.naive_bayes import CategoricalNB\n",
    "from ucimlrepo import fetch_ucirepo"
   ]
  },
  {
   "cell_type": "code",
   "execution_count": 649,
   "metadata": {},
   "outputs": [],
   "source": [
    "# fetch dataset \n",
    "adult = fetch_ucirepo(id=2) "
   ]
  },
  {
   "cell_type": "markdown",
   "metadata": {},
   "source": [
    "# Reading The Dataset"
   ]
  },
  {
   "cell_type": "code",
   "execution_count": 650,
   "metadata": {},
   "outputs": [
    {
     "name": "stdout",
     "output_type": "stream",
     "text": [
      "{'uci_id': 2, 'name': 'Adult', 'repository_url': 'https://archive.ics.uci.edu/dataset/2/adult', 'data_url': 'https://archive.ics.uci.edu/static/public/2/data.csv', 'abstract': 'Predict whether income exceeds $50K/yr based on census data. Also known as \"Census Income\" dataset. ', 'area': 'Social Science', 'tasks': ['Classification'], 'characteristics': ['Multivariate'], 'num_instances': 48842, 'num_features': 14, 'feature_types': ['Categorical', 'Integer'], 'demographics': ['Age', 'Income', 'Education Level', 'Other', 'Race', 'Sex'], 'target_col': ['income'], 'index_col': None, 'has_missing_values': 'yes', 'missing_values_symbol': 'NaN', 'year_of_dataset_creation': 1996, 'last_updated': 'Mon Aug 07 2023', 'dataset_doi': '10.24432/C5XW20', 'creators': ['Barry Becker', 'Ronny Kohavi'], 'intro_paper': None, 'additional_info': {'summary': 'Extraction was done by Barry Becker from the 1994 Census database.  A set of reasonably clean records was extracted using the following conditions: ((AAGE>16) && (AGI>100) && (AFNLWGT>1)&& (HRSWK>0))\\r\\n\\r\\nPrediction task is to determine whether a person makes over 50K a year.\\r\\n', 'purpose': None, 'funded_by': None, 'instances_represent': None, 'recommended_data_splits': None, 'sensitive_data': None, 'preprocessing_description': None, 'variable_info': 'Listing of attributes:\\r\\n\\r\\n>50K, <=50K.\\r\\n\\r\\nage: continuous.\\r\\nworkclass: Private, Self-emp-not-inc, Self-emp-inc, Federal-gov, Local-gov, State-gov, Without-pay, Never-worked.\\r\\nfnlwgt: continuous.\\r\\neducation: Bachelors, Some-college, 11th, HS-grad, Prof-school, Assoc-acdm, Assoc-voc, 9th, 7th-8th, 12th, Masters, 1st-4th, 10th, Doctorate, 5th-6th, Preschool.\\r\\neducation-num: continuous.\\r\\nmarital-status: Married-civ-spouse, Divorced, Never-married, Separated, Widowed, Married-spouse-absent, Married-AF-spouse.\\r\\noccupation: Tech-support, Craft-repair, Other-service, Sales, Exec-managerial, Prof-specialty, Handlers-cleaners, Machine-op-inspct, Adm-clerical, Farming-fishing, Transport-moving, Priv-house-serv, Protective-serv, Armed-Forces.\\r\\nrelationship: Wife, Own-child, Husband, Not-in-family, Other-relative, Unmarried.\\r\\nrace: White, Asian-Pac-Islander, Amer-Indian-Eskimo, Other, Black.\\r\\nsex: Female, Male.\\r\\ncapital-gain: continuous.\\r\\ncapital-loss: continuous.\\r\\nhours-per-week: continuous.\\r\\nnative-country: United-States, Cambodia, England, Puerto-Rico, Canada, Germany, Outlying-US(Guam-USVI-etc), India, Japan, Greece, South, China, Cuba, Iran, Honduras, Philippines, Italy, Poland, Jamaica, Vietnam, Mexico, Portugal, Ireland, France, Dominican-Republic, Laos, Ecuador, Taiwan, Haiti, Columbia, Hungary, Guatemala, Nicaragua, Scotland, Thailand, Yugoslavia, El-Salvador, Trinadad&Tobago, Peru, Hong, Holand-Netherlands.', 'citation': None}}\n",
      "              name     role         type      demographic  \\\n",
      "0              age  Feature      Integer              Age   \n",
      "1        workclass  Feature  Categorical           Income   \n",
      "2           fnlwgt  Feature      Integer             None   \n",
      "3        education  Feature  Categorical  Education Level   \n",
      "4    education-num  Feature      Integer  Education Level   \n",
      "5   marital-status  Feature  Categorical            Other   \n",
      "6       occupation  Feature  Categorical            Other   \n",
      "7     relationship  Feature  Categorical            Other   \n",
      "8             race  Feature  Categorical             Race   \n",
      "9              sex  Feature       Binary              Sex   \n",
      "10    capital-gain  Feature      Integer             None   \n",
      "11    capital-loss  Feature      Integer             None   \n",
      "12  hours-per-week  Feature      Integer             None   \n",
      "13  native-country  Feature  Categorical            Other   \n",
      "14          income   Target       Binary           Income   \n",
      "\n",
      "                                          description units missing_values  \n",
      "0                                                 N/A  None             no  \n",
      "1   Private, Self-emp-not-inc, Self-emp-inc, Feder...  None            yes  \n",
      "2                                                None  None             no  \n",
      "3    Bachelors, Some-college, 11th, HS-grad, Prof-...  None             no  \n",
      "4                                                None  None             no  \n",
      "5   Married-civ-spouse, Divorced, Never-married, S...  None             no  \n",
      "6   Tech-support, Craft-repair, Other-service, Sal...  None            yes  \n",
      "7   Wife, Own-child, Husband, Not-in-family, Other...  None             no  \n",
      "8   White, Asian-Pac-Islander, Amer-Indian-Eskimo,...  None             no  \n",
      "9                                       Female, Male.  None             no  \n",
      "10                                               None  None             no  \n",
      "11                                               None  None             no  \n",
      "12                                               None  None             no  \n",
      "13  United-States, Cambodia, England, Puerto-Rico,...  None            yes  \n",
      "14                                       >50K, <=50K.  None             no  \n"
     ]
    }
   ],
   "source": [
    "# data (as pandas dataframes) \n",
    "X = adult.data.features \n",
    "y = adult.data.targets \n",
    "dataset=X.copy()\n",
    "dataset['income']=y['income']\n",
    "# metadata \n",
    "print(adult.metadata) \n",
    "\n",
    "# variable information \n",
    "print(adult.variables) \n"
   ]
  },
  {
   "cell_type": "markdown",
   "metadata": {},
   "source": [
    "# Info of the Dataset"
   ]
  },
  {
   "cell_type": "code",
   "execution_count": 651,
   "metadata": {},
   "outputs": [
    {
     "name": "stdout",
     "output_type": "stream",
     "text": [
      "<class 'pandas.core.frame.DataFrame'>\n",
      "RangeIndex: 48842 entries, 0 to 48841\n",
      "Data columns (total 15 columns):\n",
      " #   Column          Non-Null Count  Dtype \n",
      "---  ------          --------------  ----- \n",
      " 0   age             48842 non-null  int64 \n",
      " 1   workclass       47879 non-null  object\n",
      " 2   fnlwgt          48842 non-null  int64 \n",
      " 3   education       48842 non-null  object\n",
      " 4   education-num   48842 non-null  int64 \n",
      " 5   marital-status  48842 non-null  object\n",
      " 6   occupation      47876 non-null  object\n",
      " 7   relationship    48842 non-null  object\n",
      " 8   race            48842 non-null  object\n",
      " 9   sex             48842 non-null  object\n",
      " 10  capital-gain    48842 non-null  int64 \n",
      " 11  capital-loss    48842 non-null  int64 \n",
      " 12  hours-per-week  48842 non-null  int64 \n",
      " 13  native-country  48568 non-null  object\n",
      " 14  income          48842 non-null  object\n",
      "dtypes: int64(6), object(9)\n",
      "memory usage: 5.6+ MB\n"
     ]
    }
   ],
   "source": [
    "dataset.info()"
   ]
  },
  {
   "cell_type": "markdown",
   "metadata": {},
   "source": [
    "## Head of the dataset"
   ]
  },
  {
   "cell_type": "code",
   "execution_count": 652,
   "metadata": {},
   "outputs": [
    {
     "data": {
      "text/html": [
       "<div>\n",
       "<style scoped>\n",
       "    .dataframe tbody tr th:only-of-type {\n",
       "        vertical-align: middle;\n",
       "    }\n",
       "\n",
       "    .dataframe tbody tr th {\n",
       "        vertical-align: top;\n",
       "    }\n",
       "\n",
       "    .dataframe thead th {\n",
       "        text-align: right;\n",
       "    }\n",
       "</style>\n",
       "<table border=\"1\" class=\"dataframe\">\n",
       "  <thead>\n",
       "    <tr style=\"text-align: right;\">\n",
       "      <th></th>\n",
       "      <th>age</th>\n",
       "      <th>workclass</th>\n",
       "      <th>fnlwgt</th>\n",
       "      <th>education</th>\n",
       "      <th>education-num</th>\n",
       "      <th>marital-status</th>\n",
       "      <th>occupation</th>\n",
       "      <th>relationship</th>\n",
       "      <th>race</th>\n",
       "      <th>sex</th>\n",
       "      <th>capital-gain</th>\n",
       "      <th>capital-loss</th>\n",
       "      <th>hours-per-week</th>\n",
       "      <th>native-country</th>\n",
       "      <th>income</th>\n",
       "    </tr>\n",
       "  </thead>\n",
       "  <tbody>\n",
       "    <tr>\n",
       "      <th>0</th>\n",
       "      <td>39</td>\n",
       "      <td>State-gov</td>\n",
       "      <td>77516</td>\n",
       "      <td>Bachelors</td>\n",
       "      <td>13</td>\n",
       "      <td>Never-married</td>\n",
       "      <td>Adm-clerical</td>\n",
       "      <td>Not-in-family</td>\n",
       "      <td>White</td>\n",
       "      <td>Male</td>\n",
       "      <td>2174</td>\n",
       "      <td>0</td>\n",
       "      <td>40</td>\n",
       "      <td>United-States</td>\n",
       "      <td>&lt;=50K</td>\n",
       "    </tr>\n",
       "    <tr>\n",
       "      <th>1</th>\n",
       "      <td>50</td>\n",
       "      <td>Self-emp-not-inc</td>\n",
       "      <td>83311</td>\n",
       "      <td>Bachelors</td>\n",
       "      <td>13</td>\n",
       "      <td>Married-civ-spouse</td>\n",
       "      <td>Exec-managerial</td>\n",
       "      <td>Husband</td>\n",
       "      <td>White</td>\n",
       "      <td>Male</td>\n",
       "      <td>0</td>\n",
       "      <td>0</td>\n",
       "      <td>13</td>\n",
       "      <td>United-States</td>\n",
       "      <td>&lt;=50K</td>\n",
       "    </tr>\n",
       "    <tr>\n",
       "      <th>2</th>\n",
       "      <td>38</td>\n",
       "      <td>Private</td>\n",
       "      <td>215646</td>\n",
       "      <td>HS-grad</td>\n",
       "      <td>9</td>\n",
       "      <td>Divorced</td>\n",
       "      <td>Handlers-cleaners</td>\n",
       "      <td>Not-in-family</td>\n",
       "      <td>White</td>\n",
       "      <td>Male</td>\n",
       "      <td>0</td>\n",
       "      <td>0</td>\n",
       "      <td>40</td>\n",
       "      <td>United-States</td>\n",
       "      <td>&lt;=50K</td>\n",
       "    </tr>\n",
       "    <tr>\n",
       "      <th>3</th>\n",
       "      <td>53</td>\n",
       "      <td>Private</td>\n",
       "      <td>234721</td>\n",
       "      <td>11th</td>\n",
       "      <td>7</td>\n",
       "      <td>Married-civ-spouse</td>\n",
       "      <td>Handlers-cleaners</td>\n",
       "      <td>Husband</td>\n",
       "      <td>Black</td>\n",
       "      <td>Male</td>\n",
       "      <td>0</td>\n",
       "      <td>0</td>\n",
       "      <td>40</td>\n",
       "      <td>United-States</td>\n",
       "      <td>&lt;=50K</td>\n",
       "    </tr>\n",
       "    <tr>\n",
       "      <th>4</th>\n",
       "      <td>28</td>\n",
       "      <td>Private</td>\n",
       "      <td>338409</td>\n",
       "      <td>Bachelors</td>\n",
       "      <td>13</td>\n",
       "      <td>Married-civ-spouse</td>\n",
       "      <td>Prof-specialty</td>\n",
       "      <td>Wife</td>\n",
       "      <td>Black</td>\n",
       "      <td>Female</td>\n",
       "      <td>0</td>\n",
       "      <td>0</td>\n",
       "      <td>40</td>\n",
       "      <td>Cuba</td>\n",
       "      <td>&lt;=50K</td>\n",
       "    </tr>\n",
       "  </tbody>\n",
       "</table>\n",
       "</div>"
      ],
      "text/plain": [
       "   age         workclass  fnlwgt  education  education-num  \\\n",
       "0   39         State-gov   77516  Bachelors             13   \n",
       "1   50  Self-emp-not-inc   83311  Bachelors             13   \n",
       "2   38           Private  215646    HS-grad              9   \n",
       "3   53           Private  234721       11th              7   \n",
       "4   28           Private  338409  Bachelors             13   \n",
       "\n",
       "       marital-status         occupation   relationship   race     sex  \\\n",
       "0       Never-married       Adm-clerical  Not-in-family  White    Male   \n",
       "1  Married-civ-spouse    Exec-managerial        Husband  White    Male   \n",
       "2            Divorced  Handlers-cleaners  Not-in-family  White    Male   \n",
       "3  Married-civ-spouse  Handlers-cleaners        Husband  Black    Male   \n",
       "4  Married-civ-spouse     Prof-specialty           Wife  Black  Female   \n",
       "\n",
       "   capital-gain  capital-loss  hours-per-week native-country income  \n",
       "0          2174             0              40  United-States  <=50K  \n",
       "1             0             0              13  United-States  <=50K  \n",
       "2             0             0              40  United-States  <=50K  \n",
       "3             0             0              40  United-States  <=50K  \n",
       "4             0             0              40           Cuba  <=50K  "
      ]
     },
     "execution_count": 652,
     "metadata": {},
     "output_type": "execute_result"
    }
   ],
   "source": [
    "dataset.head()"
   ]
  },
  {
   "cell_type": "markdown",
   "metadata": {},
   "source": [
    "# Replace commas to make two classes not four"
   ]
  },
  {
   "cell_type": "code",
   "execution_count": 653,
   "metadata": {},
   "outputs": [],
   "source": [
    "dataset['income']=[i.replace('.','') for i in dataset['income']]"
   ]
  },
  {
   "cell_type": "markdown",
   "metadata": {},
   "source": [
    "## Show duplicated rows "
   ]
  },
  {
   "cell_type": "code",
   "execution_count": 654,
   "metadata": {},
   "outputs": [
    {
     "data": {
      "text/plain": [
       "48"
      ]
     },
     "execution_count": 654,
     "metadata": {},
     "output_type": "execute_result"
    }
   ],
   "source": [
    "dataset.duplicated().sum()"
   ]
  },
  {
   "cell_type": "markdown",
   "metadata": {},
   "source": [
    "**# Drop duplicates #**"
   ]
  },
  {
   "cell_type": "code",
   "execution_count": 655,
   "metadata": {},
   "outputs": [],
   "source": [
    "dataset.drop_duplicates(inplace=True)"
   ]
  },
  {
   "cell_type": "code",
   "execution_count": 656,
   "metadata": {},
   "outputs": [
    {
     "data": {
      "text/plain": [
       "0"
      ]
     },
     "execution_count": 656,
     "metadata": {},
     "output_type": "execute_result"
    }
   ],
   "source": [
    "dataset.duplicated().sum()"
   ]
  },
  {
   "cell_type": "markdown",
   "metadata": {},
   "source": [
    "# Apply one-hot encoding to categorical variables"
   ]
  },
  {
   "cell_type": "code",
   "execution_count": 657,
   "metadata": {},
   "outputs": [
    {
     "name": "stdout",
     "output_type": "stream",
     "text": [
      "age                 0\n",
      "workclass         963\n",
      "fnlwgt              0\n",
      "education           0\n",
      "education-num       0\n",
      "marital-status      0\n",
      "occupation        966\n",
      "relationship        0\n",
      "race                0\n",
      "sex                 0\n",
      "capital-gain        0\n",
      "capital-loss        0\n",
      "hours-per-week      0\n",
      "native-country    274\n",
      "income              0\n"
     ]
    }
   ],
   "source": [
    "print(dataset.isnull().sum().to_string())"
   ]
  },
  {
   "cell_type": "markdown",
   "metadata": {},
   "source": [
    "**#  Identify columns with missing values for different data types #**"
   ]
  },
  {
   "cell_type": "code",
   "execution_count": 658,
   "metadata": {},
   "outputs": [],
   "source": [
    "num_cols = dataset.select_dtypes(include=['int64', 'float64']).columns\n",
    "categorical_cols = dataset.select_dtypes(include=['object']).columns\n",
    "categorical_cols=[i for i in categorical_cols if i != 'income']"
   ]
  },
  {
   "cell_type": "markdown",
   "metadata": {},
   "source": [
    "**# Drop Na values #** "
   ]
  },
  {
   "cell_type": "code",
   "execution_count": 659,
   "metadata": {},
   "outputs": [
    {
     "name": "stdout",
     "output_type": "stream",
     "text": [
      "index             0\n",
      "age               0\n",
      "workclass         0\n",
      "fnlwgt            0\n",
      "education         0\n",
      "education-num     0\n",
      "marital-status    0\n",
      "occupation        0\n",
      "relationship      0\n",
      "race              0\n",
      "sex               0\n",
      "capital-gain      0\n",
      "capital-loss      0\n",
      "hours-per-week    0\n",
      "native-country    0\n",
      "income            0\n"
     ]
    }
   ],
   "source": [
    "dataset.dropna(inplace=True)\n",
    "dataset=dataset.reset_index()\n",
    "print(dataset.isnull().sum().to_string())"
   ]
  },
  {
   "cell_type": "markdown",
   "metadata": {},
   "source": [
    "**# Apply one hot coding #**"
   ]
  },
  {
   "cell_type": "code",
   "execution_count": 660,
   "metadata": {},
   "outputs": [
    {
     "name": "stdout",
     "output_type": "stream",
     "text": [
      "       workclass_?  workclass_Federal-gov  workclass_Local-gov  \\\n",
      "0            False                  False                False   \n",
      "1            False                  False                False   \n",
      "2            False                  False                False   \n",
      "3            False                  False                False   \n",
      "4            False                  False                False   \n",
      "...            ...                    ...                  ...   \n",
      "47568        False                  False                False   \n",
      "47569        False                  False                False   \n",
      "47570        False                  False                False   \n",
      "47571        False                  False                False   \n",
      "47572        False                  False                False   \n",
      "\n",
      "       workclass_Never-worked  workclass_Private  workclass_Self-emp-inc  \\\n",
      "0                       False              False                   False   \n",
      "1                       False              False                   False   \n",
      "2                       False               True                   False   \n",
      "3                       False               True                   False   \n",
      "4                       False               True                   False   \n",
      "...                       ...                ...                     ...   \n",
      "47568                   False               True                   False   \n",
      "47569                   False               True                   False   \n",
      "47570                   False               True                   False   \n",
      "47571                   False               True                   False   \n",
      "47572                   False              False                    True   \n",
      "\n",
      "       workclass_Self-emp-not-inc  workclass_State-gov  workclass_Without-pay  \\\n",
      "0                           False                 True                  False   \n",
      "1                            True                False                  False   \n",
      "2                           False                False                  False   \n",
      "3                           False                False                  False   \n",
      "4                           False                False                  False   \n",
      "...                           ...                  ...                    ...   \n",
      "47568                       False                False                  False   \n",
      "47569                       False                False                  False   \n",
      "47570                       False                False                  False   \n",
      "47571                       False                False                  False   \n",
      "47572                       False                False                  False   \n",
      "\n",
      "       education_10th  ...  native-country_Portugal  \\\n",
      "0               False  ...                    False   \n",
      "1               False  ...                    False   \n",
      "2               False  ...                    False   \n",
      "3               False  ...                    False   \n",
      "4               False  ...                    False   \n",
      "...               ...  ...                      ...   \n",
      "47568           False  ...                    False   \n",
      "47569           False  ...                    False   \n",
      "47570           False  ...                    False   \n",
      "47571           False  ...                    False   \n",
      "47572           False  ...                    False   \n",
      "\n",
      "       native-country_Puerto-Rico  native-country_Scotland  \\\n",
      "0                           False                    False   \n",
      "1                           False                    False   \n",
      "2                           False                    False   \n",
      "3                           False                    False   \n",
      "4                           False                    False   \n",
      "...                           ...                      ...   \n",
      "47568                       False                    False   \n",
      "47569                       False                    False   \n",
      "47570                       False                    False   \n",
      "47571                       False                    False   \n",
      "47572                       False                    False   \n",
      "\n",
      "       native-country_South  native-country_Taiwan  native-country_Thailand  \\\n",
      "0                     False                  False                    False   \n",
      "1                     False                  False                    False   \n",
      "2                     False                  False                    False   \n",
      "3                     False                  False                    False   \n",
      "4                     False                  False                    False   \n",
      "...                     ...                    ...                      ...   \n",
      "47568                 False                  False                    False   \n",
      "47569                 False                  False                    False   \n",
      "47570                 False                  False                    False   \n",
      "47571                 False                  False                    False   \n",
      "47572                 False                  False                    False   \n",
      "\n",
      "       native-country_Trinadad&Tobago  native-country_United-States  \\\n",
      "0                               False                          True   \n",
      "1                               False                          True   \n",
      "2                               False                          True   \n",
      "3                               False                          True   \n",
      "4                               False                         False   \n",
      "...                               ...                           ...   \n",
      "47568                           False                          True   \n",
      "47569                           False                          True   \n",
      "47570                           False                          True   \n",
      "47571                           False                          True   \n",
      "47572                           False                          True   \n",
      "\n",
      "       native-country_Vietnam  native-country_Yugoslavia  \n",
      "0                       False                      False  \n",
      "1                       False                      False  \n",
      "2                       False                      False  \n",
      "3                       False                      False  \n",
      "4                       False                      False  \n",
      "...                       ...                        ...  \n",
      "47568                   False                      False  \n",
      "47569                   False                      False  \n",
      "47570                   False                      False  \n",
      "47571                   False                      False  \n",
      "47572                   False                      False  \n",
      "\n",
      "[47573 rows x 102 columns]\n"
     ]
    }
   ],
   "source": [
    "inputs = pd.get_dummies(dataset[categorical_cols])\n",
    "print(inputs)"
   ]
  },
  {
   "cell_type": "markdown",
   "metadata": {},
   "source": [
    "**# Concatination of data #** "
   ]
  },
  {
   "cell_type": "code",
   "execution_count": 661,
   "metadata": {},
   "outputs": [
    {
     "name": "stdout",
     "output_type": "stream",
     "text": [
      "       index  age         workclass  fnlwgt  education  education-num  \\\n",
      "0          0   39         State-gov   77516  Bachelors             13   \n",
      "1          1   50  Self-emp-not-inc   83311  Bachelors             13   \n",
      "2          2   38           Private  215646    HS-grad              9   \n",
      "3          3   53           Private  234721       11th              7   \n",
      "4          4   28           Private  338409  Bachelors             13   \n",
      "...      ...  ...               ...     ...        ...            ...   \n",
      "47568  48836   33           Private  245211  Bachelors             13   \n",
      "47569  48837   39           Private  215419  Bachelors             13   \n",
      "47570  48839   38           Private  374983  Bachelors             13   \n",
      "47571  48840   44           Private   83891  Bachelors             13   \n",
      "47572  48841   35      Self-emp-inc  182148  Bachelors             13   \n",
      "\n",
      "           marital-status         occupation   relationship  \\\n",
      "0           Never-married       Adm-clerical  Not-in-family   \n",
      "1      Married-civ-spouse    Exec-managerial        Husband   \n",
      "2                Divorced  Handlers-cleaners  Not-in-family   \n",
      "3      Married-civ-spouse  Handlers-cleaners        Husband   \n",
      "4      Married-civ-spouse     Prof-specialty           Wife   \n",
      "...                   ...                ...            ...   \n",
      "47568       Never-married     Prof-specialty      Own-child   \n",
      "47569            Divorced     Prof-specialty  Not-in-family   \n",
      "47570  Married-civ-spouse     Prof-specialty        Husband   \n",
      "47571            Divorced       Adm-clerical      Own-child   \n",
      "47572  Married-civ-spouse    Exec-managerial        Husband   \n",
      "\n",
      "                     race  ... native-country_Portugal  \\\n",
      "0                   White  ...                   False   \n",
      "1                   White  ...                   False   \n",
      "2                   White  ...                   False   \n",
      "3                   Black  ...                   False   \n",
      "4                   Black  ...                   False   \n",
      "...                   ...  ...                     ...   \n",
      "47568               White  ...                   False   \n",
      "47569               White  ...                   False   \n",
      "47570               White  ...                   False   \n",
      "47571  Asian-Pac-Islander  ...                   False   \n",
      "47572               White  ...                   False   \n",
      "\n",
      "       native-country_Puerto-Rico  native-country_Scotland  \\\n",
      "0                           False                    False   \n",
      "1                           False                    False   \n",
      "2                           False                    False   \n",
      "3                           False                    False   \n",
      "4                           False                    False   \n",
      "...                           ...                      ...   \n",
      "47568                       False                    False   \n",
      "47569                       False                    False   \n",
      "47570                       False                    False   \n",
      "47571                       False                    False   \n",
      "47572                       False                    False   \n",
      "\n",
      "       native-country_South native-country_Taiwan native-country_Thailand  \\\n",
      "0                     False                 False                   False   \n",
      "1                     False                 False                   False   \n",
      "2                     False                 False                   False   \n",
      "3                     False                 False                   False   \n",
      "4                     False                 False                   False   \n",
      "...                     ...                   ...                     ...   \n",
      "47568                 False                 False                   False   \n",
      "47569                 False                 False                   False   \n",
      "47570                 False                 False                   False   \n",
      "47571                 False                 False                   False   \n",
      "47572                 False                 False                   False   \n",
      "\n",
      "       native-country_Trinadad&Tobago  native-country_United-States  \\\n",
      "0                               False                          True   \n",
      "1                               False                          True   \n",
      "2                               False                          True   \n",
      "3                               False                          True   \n",
      "4                               False                         False   \n",
      "...                               ...                           ...   \n",
      "47568                           False                          True   \n",
      "47569                           False                          True   \n",
      "47570                           False                          True   \n",
      "47571                           False                          True   \n",
      "47572                           False                          True   \n",
      "\n",
      "       native-country_Vietnam  native-country_Yugoslavia  \n",
      "0                       False                      False  \n",
      "1                       False                      False  \n",
      "2                       False                      False  \n",
      "3                       False                      False  \n",
      "4                       False                      False  \n",
      "...                       ...                        ...  \n",
      "47568                   False                      False  \n",
      "47569                   False                      False  \n",
      "47570                   False                      False  \n",
      "47571                   False                      False  \n",
      "47572                   False                      False  \n",
      "\n",
      "[47573 rows x 118 columns]\n"
     ]
    }
   ],
   "source": [
    "dataset=pd.concat([dataset,inputs],axis=1)\n",
    "print(dataset)"
   ]
  },
  {
   "cell_type": "markdown",
   "metadata": {},
   "source": [
    "# Drop Categorical Columns"
   ]
  },
  {
   "cell_type": "code",
   "execution_count": 662,
   "metadata": {},
   "outputs": [
    {
     "name": "stdout",
     "output_type": "stream",
     "text": [
      "       age  fnlwgt  education-num  capital-gain  capital-loss  hours-per-week  \\\n",
      "0       39   77516             13          2174             0              40   \n",
      "1       50   83311             13             0             0              13   \n",
      "2       38  215646              9             0             0              40   \n",
      "3       53  234721              7             0             0              40   \n",
      "4       28  338409             13             0             0              40   \n",
      "...    ...     ...            ...           ...           ...             ...   \n",
      "47568   33  245211             13             0             0              40   \n",
      "47569   39  215419             13             0             0              36   \n",
      "47570   38  374983             13             0             0              50   \n",
      "47571   44   83891             13          5455             0              40   \n",
      "47572   35  182148             13             0             0              60   \n",
      "\n",
      "      income  workclass_?  workclass_Federal-gov  workclass_Local-gov  ...  \\\n",
      "0      <=50K        False                  False                False  ...   \n",
      "1      <=50K        False                  False                False  ...   \n",
      "2      <=50K        False                  False                False  ...   \n",
      "3      <=50K        False                  False                False  ...   \n",
      "4      <=50K        False                  False                False  ...   \n",
      "...      ...          ...                    ...                  ...  ...   \n",
      "47568  <=50K        False                  False                False  ...   \n",
      "47569  <=50K        False                  False                False  ...   \n",
      "47570  <=50K        False                  False                False  ...   \n",
      "47571  <=50K        False                  False                False  ...   \n",
      "47572   >50K        False                  False                False  ...   \n",
      "\n",
      "       native-country_Portugal  native-country_Puerto-Rico  \\\n",
      "0                        False                       False   \n",
      "1                        False                       False   \n",
      "2                        False                       False   \n",
      "3                        False                       False   \n",
      "4                        False                       False   \n",
      "...                        ...                         ...   \n",
      "47568                    False                       False   \n",
      "47569                    False                       False   \n",
      "47570                    False                       False   \n",
      "47571                    False                       False   \n",
      "47572                    False                       False   \n",
      "\n",
      "       native-country_Scotland  native-country_South  native-country_Taiwan  \\\n",
      "0                        False                 False                  False   \n",
      "1                        False                 False                  False   \n",
      "2                        False                 False                  False   \n",
      "3                        False                 False                  False   \n",
      "4                        False                 False                  False   \n",
      "...                        ...                   ...                    ...   \n",
      "47568                    False                 False                  False   \n",
      "47569                    False                 False                  False   \n",
      "47570                    False                 False                  False   \n",
      "47571                    False                 False                  False   \n",
      "47572                    False                 False                  False   \n",
      "\n",
      "       native-country_Thailand  native-country_Trinadad&Tobago  \\\n",
      "0                        False                           False   \n",
      "1                        False                           False   \n",
      "2                        False                           False   \n",
      "3                        False                           False   \n",
      "4                        False                           False   \n",
      "...                        ...                             ...   \n",
      "47568                    False                           False   \n",
      "47569                    False                           False   \n",
      "47570                    False                           False   \n",
      "47571                    False                           False   \n",
      "47572                    False                           False   \n",
      "\n",
      "       native-country_United-States  native-country_Vietnam  \\\n",
      "0                              True                   False   \n",
      "1                              True                   False   \n",
      "2                              True                   False   \n",
      "3                              True                   False   \n",
      "4                             False                   False   \n",
      "...                             ...                     ...   \n",
      "47568                          True                   False   \n",
      "47569                          True                   False   \n",
      "47570                          True                   False   \n",
      "47571                          True                   False   \n",
      "47572                          True                   False   \n",
      "\n",
      "       native-country_Yugoslavia  \n",
      "0                          False  \n",
      "1                          False  \n",
      "2                          False  \n",
      "3                          False  \n",
      "4                          False  \n",
      "...                          ...  \n",
      "47568                      False  \n",
      "47569                      False  \n",
      "47570                      False  \n",
      "47571                      False  \n",
      "47572                      False  \n",
      "\n",
      "[47573 rows x 109 columns]\n"
     ]
    }
   ],
   "source": [
    "dataset=dataset.drop(categorical_cols ,axis=1)\n",
    "dataset.drop('index',axis=1,inplace=True)\n",
    "dataset.dropna(inplace=True)\n",
    "print(dataset)\n"
   ]
  },
  {
   "cell_type": "markdown",
   "metadata": {},
   "source": [
    "# Split the data into training and testing sets"
   ]
  },
  {
   "cell_type": "code",
   "execution_count": 663,
   "metadata": {},
   "outputs": [],
   "source": [
    "\n",
    "X_train, X_test, y_train, y_test = train_test_split(dataset.drop('income',axis=1), dataset['income'], test_size=0.3, random_state=16)"
   ]
  },
  {
   "cell_type": "markdown",
   "metadata": {},
   "source": [
    "**# Our Model Categorical Naive Bayes #**"
   ]
  },
  {
   "cell_type": "code",
   "execution_count": 664,
   "metadata": {},
   "outputs": [
    {
     "data": {
      "text/plain": [
       "0.865649680189784"
      ]
     },
     "execution_count": 664,
     "metadata": {},
     "output_type": "execute_result"
    }
   ],
   "source": [
    "model=CategoricalNB()\n",
    "model.fit(X_train,y_train)\n",
    "model.score(X_train,y_train)"
   ]
  },
  {
   "cell_type": "code",
   "execution_count": 665,
   "metadata": {},
   "outputs": [
    {
     "name": "stdout",
     "output_type": "stream",
     "text": [
      "['>50K' '<=50K' '>50K' ... '<=50K' '>50K' '<=50K']\n"
     ]
    }
   ],
   "source": [
    "y_predict=model.predict(X_test)\n",
    "print(y_predict)"
   ]
  },
  {
   "cell_type": "markdown",
   "metadata": {},
   "source": [
    "# accuracy score"
   ]
  },
  {
   "cell_type": "code",
   "execution_count": 666,
   "metadata": {},
   "outputs": [
    {
     "name": "stdout",
     "output_type": "stream",
     "text": [
      "0.8346412556053812\n"
     ]
    }
   ],
   "source": [
    "print(accuracy_score(y_test,y_predict))"
   ]
  },
  {
   "cell_type": "markdown",
   "metadata": {},
   "source": [
    "# Confusion Matrix"
   ]
  },
  {
   "cell_type": "code",
   "execution_count": 667,
   "metadata": {},
   "outputs": [
    {
     "name": "stdout",
     "output_type": "stream",
     "text": [
      "Confusion matrix: [[9335 1402]\n",
      " [ 958 2577]]\n",
      "Senstivity:  0.728995756718529\n",
      "Specifity:  0.8694234888702617\n"
     ]
    }
   ],
   "source": [
    "\n",
    "conf_mat = confusion_matrix(y_test,y_predict)\n",
    "print(\"Confusion matrix:\",conf_mat)\n",
    "\n",
    "tn, fp, fn, tp = conf_mat.ravel()\n",
    "\n",
    "senstivity = tp / (tp+fn)\n",
    "specifity = tn / (tn+fp)\n",
    "\n",
    "print(\"Senstivity: \", senstivity)\n",
    "print(\"Specifity: \", specifity)"
   ]
  },
  {
   "cell_type": "markdown",
   "metadata": {},
   "source": [
    "# prosterior prob of all data"
   ]
  },
  {
   "cell_type": "code",
   "execution_count": 668,
   "metadata": {},
   "outputs": [
    {
     "name": "stdout",
     "output_type": "stream",
     "text": [
      "[2.19961668e-04 9.93890237e-01 9.52643138e-05 ... 9.88406098e-01\n",
      " 9.07526400e-05 9.98903827e-01]\n"
     ]
    }
   ],
   "source": [
    "prosterior_prob=model.predict_proba(dataset.drop('income',axis=1))\n",
    "print(prosterior_prob[:,1])"
   ]
  },
  {
   "cell_type": "markdown",
   "metadata": {},
   "source": [
    "# prosterior prob of test data"
   ]
  },
  {
   "cell_type": "code",
   "execution_count": 669,
   "metadata": {},
   "outputs": [
    {
     "name": "stdout",
     "output_type": "stream",
     "text": [
      "[8.77374026e-01 1.66193737e-04 9.99921784e-01 ... 5.01416997e-07\n",
      " 9.99981450e-01 1.49405881e-01]\n"
     ]
    }
   ],
   "source": [
    "prosterior_prob=model.predict_proba(X_test)\n",
    "print(prosterior_prob[:,1])"
   ]
  }
 ],
 "metadata": {
  "kernelspec": {
   "display_name": "Python 3",
   "language": "python",
   "name": "python3"
  },
  "language_info": {
   "codemirror_mode": {
    "name": "ipython",
    "version": 3
   },
   "file_extension": ".py",
   "mimetype": "text/x-python",
   "name": "python",
   "nbconvert_exporter": "python",
   "pygments_lexer": "ipython3",
   "version": "3.12.0"
  }
 },
 "nbformat": 4,
 "nbformat_minor": 2
}
